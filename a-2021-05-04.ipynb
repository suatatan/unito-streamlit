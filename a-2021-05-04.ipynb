{
 "cells": [
  {
   "cell_type": "markdown",
   "metadata": {},
   "source": [
    "## Notebook / 4 May 2021\n",
    "\n",
    "a-2021-05-04.ipynb"
   ]
  },
  {
   "cell_type": "markdown",
   "metadata": {},
   "source": [
    "## Input Data"
   ]
  },
  {
   "cell_type": "code",
   "execution_count": 1,
   "metadata": {},
   "outputs": [
    {
     "data": {
      "text/html": [
       "<style  type=\"text/css\" >\n",
       "</style><table id=\"T_95fef_\" ><caption><b style='background-color: yellow;'>Table 0: Input Data</b></caption><thead>    <tr>        <th class=\"blank level0\" ></th>        <th class=\"col_heading level0 col0\" >paper_key</th>        <th class=\"col_heading level0 col1\" >t1</th>        <th class=\"col_heading level0 col2\" >t2</th>        <th class=\"col_heading level0 col3\" >t3</th>        <th class=\"col_heading level0 col4\" >t4</th>    </tr></thead><tbody>\n",
       "                <tr>\n",
       "                        <th id=\"T_95fef_level0_row0\" class=\"row_heading level0 row0\" >0</th>\n",
       "                        <td id=\"T_95fef_row0_col0\" class=\"data row0 col0\" >p1</td>\n",
       "                        <td id=\"T_95fef_row0_col1\" class=\"data row0 col1\" >10</td>\n",
       "                        <td id=\"T_95fef_row0_col2\" class=\"data row0 col2\" >20</td>\n",
       "                        <td id=\"T_95fef_row0_col3\" class=\"data row0 col3\" >61</td>\n",
       "                        <td id=\"T_95fef_row0_col4\" class=\"data row0 col4\" >9</td>\n",
       "            </tr>\n",
       "            <tr>\n",
       "                        <th id=\"T_95fef_level0_row1\" class=\"row_heading level0 row1\" >1</th>\n",
       "                        <td id=\"T_95fef_row1_col0\" class=\"data row1 col0\" >p2</td>\n",
       "                        <td id=\"T_95fef_row1_col1\" class=\"data row1 col1\" >80</td>\n",
       "                        <td id=\"T_95fef_row1_col2\" class=\"data row1 col2\" >2</td>\n",
       "                        <td id=\"T_95fef_row1_col3\" class=\"data row1 col3\" >8</td>\n",
       "                        <td id=\"T_95fef_row1_col4\" class=\"data row1 col4\" >10</td>\n",
       "            </tr>\n",
       "            <tr>\n",
       "                        <th id=\"T_95fef_level0_row2\" class=\"row_heading level0 row2\" >2</th>\n",
       "                        <td id=\"T_95fef_row2_col0\" class=\"data row2 col0\" >p3</td>\n",
       "                        <td id=\"T_95fef_row2_col1\" class=\"data row2 col1\" >30</td>\n",
       "                        <td id=\"T_95fef_row2_col2\" class=\"data row2 col2\" >60</td>\n",
       "                        <td id=\"T_95fef_row2_col3\" class=\"data row2 col3\" >4</td>\n",
       "                        <td id=\"T_95fef_row2_col4\" class=\"data row2 col4\" >6</td>\n",
       "            </tr>\n",
       "            <tr>\n",
       "                        <th id=\"T_95fef_level0_row3\" class=\"row_heading level0 row3\" >3</th>\n",
       "                        <td id=\"T_95fef_row3_col0\" class=\"data row3 col0\" >p4</td>\n",
       "                        <td id=\"T_95fef_row3_col1\" class=\"data row3 col1\" >40</td>\n",
       "                        <td id=\"T_95fef_row3_col2\" class=\"data row3 col2\" >5</td>\n",
       "                        <td id=\"T_95fef_row3_col3\" class=\"data row3 col3\" >30</td>\n",
       "                        <td id=\"T_95fef_row3_col4\" class=\"data row3 col4\" >25</td>\n",
       "            </tr>\n",
       "    </tbody></table>"
      ],
      "text/plain": [
       "<pandas.io.formats.style.Styler at 0x7fb8183235b0>"
      ]
     },
     "execution_count": 1,
     "metadata": {},
     "output_type": "execute_result"
    }
   ],
   "source": [
    "import paper as pa\n",
    "import standard_data as sdata\n",
    "sdata.input_set.style.set_caption(\"<b style='background-color: yellow;'>Table 0: Input Data</b>\")"
   ]
  },
  {
   "cell_type": "markdown",
   "metadata": {},
   "source": [
    "## Analysis for each papers"
   ]
  },
  {
   "cell_type": "code",
   "execution_count": 2,
   "metadata": {},
   "outputs": [],
   "source": [
    "TRESHOLD = 92"
   ]
  },
  {
   "cell_type": "code",
   "execution_count": 3,
   "metadata": {},
   "outputs": [
    {
     "data": {
      "text/html": [
       "<style  type=\"text/css\" >\n",
       "</style><table id=\"T_f22a1_\" ><caption>Table 1: Analysis for paper p1</caption><thead>    <tr>        <th class=\"blank level0\" ></th>        <th class=\"col_heading level0 col0\" >topic</th>        <th class=\"col_heading level0 col1\" >weight</th>        <th class=\"col_heading level0 col2\" >cumsum</th>    </tr></thead><tbody>\n",
       "                <tr>\n",
       "                        <th id=\"T_f22a1_level0_row0\" class=\"row_heading level0 row0\" >0</th>\n",
       "                        <td id=\"T_f22a1_row0_col0\" class=\"data row0 col0\" >t3</td>\n",
       "                        <td id=\"T_f22a1_row0_col1\" class=\"data row0 col1\" >61</td>\n",
       "                        <td id=\"T_f22a1_row0_col2\" class=\"data row0 col2\" >61</td>\n",
       "            </tr>\n",
       "            <tr>\n",
       "                        <th id=\"T_f22a1_level0_row1\" class=\"row_heading level0 row1\" >1</th>\n",
       "                        <td id=\"T_f22a1_row1_col0\" class=\"data row1 col0\" >t2</td>\n",
       "                        <td id=\"T_f22a1_row1_col1\" class=\"data row1 col1\" >20</td>\n",
       "                        <td id=\"T_f22a1_row1_col2\" class=\"data row1 col2\" >81</td>\n",
       "            </tr>\n",
       "            <tr>\n",
       "                        <th id=\"T_f22a1_level0_row2\" class=\"row_heading level0 row2\" >2</th>\n",
       "                        <td id=\"T_f22a1_row2_col0\" class=\"data row2 col0\" >t1</td>\n",
       "                        <td id=\"T_f22a1_row2_col1\" class=\"data row2 col1\" >10</td>\n",
       "                        <td id=\"T_f22a1_row2_col2\" class=\"data row2 col2\" >91</td>\n",
       "            </tr>\n",
       "            <tr>\n",
       "                        <th id=\"T_f22a1_level0_row3\" class=\"row_heading level0 row3\" >3</th>\n",
       "                        <td id=\"T_f22a1_row3_col0\" class=\"data row3 col0\" >t4</td>\n",
       "                        <td id=\"T_f22a1_row3_col1\" class=\"data row3 col1\" >9</td>\n",
       "                        <td id=\"T_f22a1_row3_col2\" class=\"data row3 col2\" >100</td>\n",
       "            </tr>\n",
       "    </tbody></table>"
      ],
      "text/plain": [
       "<pandas.io.formats.style.Styler at 0x7fb81831cd60>"
      ]
     },
     "execution_count": 3,
     "metadata": {},
     "output_type": "execute_result"
    }
   ],
   "source": [
    "pa.topics_that_are_sufficient_to_reach_the_threshold(sdata.input_set,rownum = 0,treshold = TRESHOLD )['as_df'].style.set_caption(\"Table 1: Analysis for paper p1\")"
   ]
  },
  {
   "cell_type": "code",
   "execution_count": 4,
   "metadata": {},
   "outputs": [
    {
     "data": {
      "text/html": [
       "<style  type=\"text/css\" >\n",
       "</style><table id=\"T_3b60e_\" ><caption>Table 2: Analysis for paper p2</caption><thead>    <tr>        <th class=\"blank level0\" ></th>        <th class=\"col_heading level0 col0\" >topic</th>        <th class=\"col_heading level0 col1\" >weight</th>        <th class=\"col_heading level0 col2\" >cumsum</th>    </tr></thead><tbody>\n",
       "                <tr>\n",
       "                        <th id=\"T_3b60e_level0_row0\" class=\"row_heading level0 row0\" >0</th>\n",
       "                        <td id=\"T_3b60e_row0_col0\" class=\"data row0 col0\" >t1</td>\n",
       "                        <td id=\"T_3b60e_row0_col1\" class=\"data row0 col1\" >80</td>\n",
       "                        <td id=\"T_3b60e_row0_col2\" class=\"data row0 col2\" >80</td>\n",
       "            </tr>\n",
       "            <tr>\n",
       "                        <th id=\"T_3b60e_level0_row1\" class=\"row_heading level0 row1\" >1</th>\n",
       "                        <td id=\"T_3b60e_row1_col0\" class=\"data row1 col0\" >t4</td>\n",
       "                        <td id=\"T_3b60e_row1_col1\" class=\"data row1 col1\" >10</td>\n",
       "                        <td id=\"T_3b60e_row1_col2\" class=\"data row1 col2\" >90</td>\n",
       "            </tr>\n",
       "            <tr>\n",
       "                        <th id=\"T_3b60e_level0_row2\" class=\"row_heading level0 row2\" >2</th>\n",
       "                        <td id=\"T_3b60e_row2_col0\" class=\"data row2 col0\" >t3</td>\n",
       "                        <td id=\"T_3b60e_row2_col1\" class=\"data row2 col1\" >8</td>\n",
       "                        <td id=\"T_3b60e_row2_col2\" class=\"data row2 col2\" >98</td>\n",
       "            </tr>\n",
       "    </tbody></table>"
      ],
      "text/plain": [
       "<pandas.io.formats.style.Styler at 0x7fb7e9352cd0>"
      ]
     },
     "execution_count": 4,
     "metadata": {},
     "output_type": "execute_result"
    }
   ],
   "source": [
    "pa.topics_that_are_sufficient_to_reach_the_threshold(sdata.input_set,rownum = 1,treshold = TRESHOLD )['as_df'].style.set_caption(\"Table 2: Analysis for paper p2\")"
   ]
  },
  {
   "cell_type": "code",
   "execution_count": 5,
   "metadata": {},
   "outputs": [
    {
     "data": {
      "text/html": [
       "<style  type=\"text/css\" >\n",
       "</style><table id=\"T_8c0b5_\" ><caption>Table 3: Analysis for paper p3</caption><thead>    <tr>        <th class=\"blank level0\" ></th>        <th class=\"col_heading level0 col0\" >topic</th>        <th class=\"col_heading level0 col1\" >weight</th>        <th class=\"col_heading level0 col2\" >cumsum</th>    </tr></thead><tbody>\n",
       "                <tr>\n",
       "                        <th id=\"T_8c0b5_level0_row0\" class=\"row_heading level0 row0\" >0</th>\n",
       "                        <td id=\"T_8c0b5_row0_col0\" class=\"data row0 col0\" >t2</td>\n",
       "                        <td id=\"T_8c0b5_row0_col1\" class=\"data row0 col1\" >60</td>\n",
       "                        <td id=\"T_8c0b5_row0_col2\" class=\"data row0 col2\" >60</td>\n",
       "            </tr>\n",
       "            <tr>\n",
       "                        <th id=\"T_8c0b5_level0_row1\" class=\"row_heading level0 row1\" >1</th>\n",
       "                        <td id=\"T_8c0b5_row1_col0\" class=\"data row1 col0\" >t1</td>\n",
       "                        <td id=\"T_8c0b5_row1_col1\" class=\"data row1 col1\" >30</td>\n",
       "                        <td id=\"T_8c0b5_row1_col2\" class=\"data row1 col2\" >90</td>\n",
       "            </tr>\n",
       "            <tr>\n",
       "                        <th id=\"T_8c0b5_level0_row2\" class=\"row_heading level0 row2\" >2</th>\n",
       "                        <td id=\"T_8c0b5_row2_col0\" class=\"data row2 col0\" >t4</td>\n",
       "                        <td id=\"T_8c0b5_row2_col1\" class=\"data row2 col1\" >6</td>\n",
       "                        <td id=\"T_8c0b5_row2_col2\" class=\"data row2 col2\" >96</td>\n",
       "            </tr>\n",
       "    </tbody></table>"
      ],
      "text/plain": [
       "<pandas.io.formats.style.Styler at 0x7fb8183280d0>"
      ]
     },
     "execution_count": 5,
     "metadata": {},
     "output_type": "execute_result"
    }
   ],
   "source": [
    "pa.topics_that_are_sufficient_to_reach_the_threshold(sdata.input_set,rownum = 2,treshold = TRESHOLD )['as_df'].style.set_caption(\"Table 3: Analysis for paper p3\")"
   ]
  },
  {
   "cell_type": "code",
   "execution_count": 6,
   "metadata": {},
   "outputs": [
    {
     "data": {
      "text/html": [
       "<style  type=\"text/css\" >\n",
       "</style><table id=\"T_4a7d4_\" ><caption>Table 4: Analysis for paper p4</caption><thead>    <tr>        <th class=\"blank level0\" ></th>        <th class=\"col_heading level0 col0\" >topic</th>        <th class=\"col_heading level0 col1\" >weight</th>        <th class=\"col_heading level0 col2\" >cumsum</th>    </tr></thead><tbody>\n",
       "                <tr>\n",
       "                        <th id=\"T_4a7d4_level0_row0\" class=\"row_heading level0 row0\" >0</th>\n",
       "                        <td id=\"T_4a7d4_row0_col0\" class=\"data row0 col0\" >t1</td>\n",
       "                        <td id=\"T_4a7d4_row0_col1\" class=\"data row0 col1\" >40</td>\n",
       "                        <td id=\"T_4a7d4_row0_col2\" class=\"data row0 col2\" >40</td>\n",
       "            </tr>\n",
       "            <tr>\n",
       "                        <th id=\"T_4a7d4_level0_row1\" class=\"row_heading level0 row1\" >1</th>\n",
       "                        <td id=\"T_4a7d4_row1_col0\" class=\"data row1 col0\" >t3</td>\n",
       "                        <td id=\"T_4a7d4_row1_col1\" class=\"data row1 col1\" >30</td>\n",
       "                        <td id=\"T_4a7d4_row1_col2\" class=\"data row1 col2\" >70</td>\n",
       "            </tr>\n",
       "            <tr>\n",
       "                        <th id=\"T_4a7d4_level0_row2\" class=\"row_heading level0 row2\" >2</th>\n",
       "                        <td id=\"T_4a7d4_row2_col0\" class=\"data row2 col0\" >t4</td>\n",
       "                        <td id=\"T_4a7d4_row2_col1\" class=\"data row2 col1\" >25</td>\n",
       "                        <td id=\"T_4a7d4_row2_col2\" class=\"data row2 col2\" >95</td>\n",
       "            </tr>\n",
       "    </tbody></table>"
      ],
      "text/plain": [
       "<pandas.io.formats.style.Styler at 0x7fb7e925a9a0>"
      ]
     },
     "execution_count": 6,
     "metadata": {},
     "output_type": "execute_result"
    }
   ],
   "source": [
    "pa.topics_that_are_sufficient_to_reach_the_threshold(sdata.input_set,rownum = 3,treshold = TRESHOLD )['as_df'].style.set_caption(\"Table 4: Analysis for paper p4\")"
   ]
  },
  {
   "cell_type": "markdown",
   "metadata": {},
   "source": [
    "## Report"
   ]
  },
  {
   "cell_type": "code",
   "execution_count": 7,
   "metadata": {},
   "outputs": [],
   "source": [
    "for index,row in sdata.input_set.iterrows():\n",
    "    reat = pa.topics_that_are_sufficient_to_reach_the_threshold(sdata.input_set,\n",
    "                                                                                rownum = index,\n",
    "                                                                                treshold=TRESHOLD)\n",
    "    sdata.input_set.at[index,'number of topics that are sufficient to reach the threshold'] = reat['as_count']\n",
    "    sdata.input_set.at[index,'label of topics that are sufficient to reach the threshold'] = reat['as_topic_labels']\n"
   ]
  },
  {
   "cell_type": "code",
   "execution_count": 8,
   "metadata": {},
   "outputs": [
    {
     "data": {
      "text/html": [
       "<style  type=\"text/css\" >\n",
       "    #T_d2684_ th {\n",
       "          max-width: 100px;\n",
       "    }</style><table id=\"T_d2684_\" ><caption>Table 5: Analysis for each paper</caption><thead>    <tr>        <th class=\"blank level0\" ></th>        <th class=\"col_heading level0 col0\" >paper_key</th>        <th class=\"col_heading level0 col1\" >t1</th>        <th class=\"col_heading level0 col2\" >t2</th>        <th class=\"col_heading level0 col3\" >t3</th>        <th class=\"col_heading level0 col4\" >t4</th>        <th class=\"col_heading level0 col5\" >number of topics that are sufficient to reach the threshold</th>        <th class=\"col_heading level0 col6\" >label of topics that are sufficient to reach the threshold</th>    </tr></thead><tbody>\n",
       "                <tr>\n",
       "                        <th id=\"T_d2684_level0_row0\" class=\"row_heading level0 row0\" >0</th>\n",
       "                        <td id=\"T_d2684_row0_col0\" class=\"data row0 col0\" >p1</td>\n",
       "                        <td id=\"T_d2684_row0_col1\" class=\"data row0 col1\" >10</td>\n",
       "                        <td id=\"T_d2684_row0_col2\" class=\"data row0 col2\" >20</td>\n",
       "                        <td id=\"T_d2684_row0_col3\" class=\"data row0 col3\" >61</td>\n",
       "                        <td id=\"T_d2684_row0_col4\" class=\"data row0 col4\" >9</td>\n",
       "                        <td id=\"T_d2684_row0_col5\" class=\"data row0 col5\" >4.000000</td>\n",
       "                        <td id=\"T_d2684_row0_col6\" class=\"data row0 col6\" >t3,t2,t1,t4</td>\n",
       "            </tr>\n",
       "            <tr>\n",
       "                        <th id=\"T_d2684_level0_row1\" class=\"row_heading level0 row1\" >1</th>\n",
       "                        <td id=\"T_d2684_row1_col0\" class=\"data row1 col0\" >p2</td>\n",
       "                        <td id=\"T_d2684_row1_col1\" class=\"data row1 col1\" >80</td>\n",
       "                        <td id=\"T_d2684_row1_col2\" class=\"data row1 col2\" >2</td>\n",
       "                        <td id=\"T_d2684_row1_col3\" class=\"data row1 col3\" >8</td>\n",
       "                        <td id=\"T_d2684_row1_col4\" class=\"data row1 col4\" >10</td>\n",
       "                        <td id=\"T_d2684_row1_col5\" class=\"data row1 col5\" >3.000000</td>\n",
       "                        <td id=\"T_d2684_row1_col6\" class=\"data row1 col6\" >t1,t4,t3</td>\n",
       "            </tr>\n",
       "            <tr>\n",
       "                        <th id=\"T_d2684_level0_row2\" class=\"row_heading level0 row2\" >2</th>\n",
       "                        <td id=\"T_d2684_row2_col0\" class=\"data row2 col0\" >p3</td>\n",
       "                        <td id=\"T_d2684_row2_col1\" class=\"data row2 col1\" >30</td>\n",
       "                        <td id=\"T_d2684_row2_col2\" class=\"data row2 col2\" >60</td>\n",
       "                        <td id=\"T_d2684_row2_col3\" class=\"data row2 col3\" >4</td>\n",
       "                        <td id=\"T_d2684_row2_col4\" class=\"data row2 col4\" >6</td>\n",
       "                        <td id=\"T_d2684_row2_col5\" class=\"data row2 col5\" >3.000000</td>\n",
       "                        <td id=\"T_d2684_row2_col6\" class=\"data row2 col6\" >t2,t1,t4</td>\n",
       "            </tr>\n",
       "            <tr>\n",
       "                        <th id=\"T_d2684_level0_row3\" class=\"row_heading level0 row3\" >3</th>\n",
       "                        <td id=\"T_d2684_row3_col0\" class=\"data row3 col0\" >p4</td>\n",
       "                        <td id=\"T_d2684_row3_col1\" class=\"data row3 col1\" >40</td>\n",
       "                        <td id=\"T_d2684_row3_col2\" class=\"data row3 col2\" >5</td>\n",
       "                        <td id=\"T_d2684_row3_col3\" class=\"data row3 col3\" >30</td>\n",
       "                        <td id=\"T_d2684_row3_col4\" class=\"data row3 col4\" >25</td>\n",
       "                        <td id=\"T_d2684_row3_col5\" class=\"data row3 col5\" >3.000000</td>\n",
       "                        <td id=\"T_d2684_row3_col6\" class=\"data row3 col6\" >t1,t3,t4</td>\n",
       "            </tr>\n",
       "    </tbody></table>"
      ],
      "text/plain": [
       "<pandas.io.formats.style.Styler at 0x7fb7e925aa60>"
      ]
     },
     "execution_count": 8,
     "metadata": {},
     "output_type": "execute_result"
    }
   ],
   "source": [
    "sdata.input_set.style.set_table_styles([dict(selector=\"th\",props=[('max-width', '100px')])]).set_caption(\"Table 5: Analysis for each paper\")"
   ]
  }
 ],
 "metadata": {
  "kernelspec": {
   "display_name": "Python 3",
   "language": "python",
   "name": "python3"
  },
  "language_info": {
   "codemirror_mode": {
    "name": "ipython",
    "version": 3
   },
   "file_extension": ".py",
   "mimetype": "text/x-python",
   "name": "python",
   "nbconvert_exporter": "python",
   "pygments_lexer": "ipython3",
   "version": "3.8.5"
  }
 },
 "nbformat": 4,
 "nbformat_minor": 4
}
