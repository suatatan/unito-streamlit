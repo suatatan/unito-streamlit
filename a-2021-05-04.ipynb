{
 "cells": [
  {
   "cell_type": "markdown",
   "metadata": {},
   "source": [
    "## Notebook / 4 May 2021 (Example Data)\n",
    "\n",
    "a-2021-05-04.ipynb"
   ]
  },
  {
   "cell_type": "markdown",
   "metadata": {},
   "source": [
    "## Input Data"
   ]
  },
  {
   "cell_type": "code",
   "execution_count": 1,
   "metadata": {},
   "outputs": [
    {
     "data": {
      "text/html": [
       "<style  type=\"text/css\" >\n",
       "</style><table id=\"T_0a634_\" ><caption><b style='background-color: yellow;'>Table 0: Input Data</b></caption><thead>    <tr>        <th class=\"blank level0\" ></th>        <th class=\"col_heading level0 col0\" >paper_key</th>        <th class=\"col_heading level0 col1\" >t1</th>        <th class=\"col_heading level0 col2\" >t2</th>        <th class=\"col_heading level0 col3\" >t3</th>        <th class=\"col_heading level0 col4\" >t4</th>    </tr></thead><tbody>\n",
       "                <tr>\n",
       "                        <th id=\"T_0a634_level0_row0\" class=\"row_heading level0 row0\" >0</th>\n",
       "                        <td id=\"T_0a634_row0_col0\" class=\"data row0 col0\" >p1</td>\n",
       "                        <td id=\"T_0a634_row0_col1\" class=\"data row0 col1\" >10</td>\n",
       "                        <td id=\"T_0a634_row0_col2\" class=\"data row0 col2\" >20</td>\n",
       "                        <td id=\"T_0a634_row0_col3\" class=\"data row0 col3\" >61</td>\n",
       "                        <td id=\"T_0a634_row0_col4\" class=\"data row0 col4\" >9</td>\n",
       "            </tr>\n",
       "            <tr>\n",
       "                        <th id=\"T_0a634_level0_row1\" class=\"row_heading level0 row1\" >1</th>\n",
       "                        <td id=\"T_0a634_row1_col0\" class=\"data row1 col0\" >p2</td>\n",
       "                        <td id=\"T_0a634_row1_col1\" class=\"data row1 col1\" >80</td>\n",
       "                        <td id=\"T_0a634_row1_col2\" class=\"data row1 col2\" >2</td>\n",
       "                        <td id=\"T_0a634_row1_col3\" class=\"data row1 col3\" >8</td>\n",
       "                        <td id=\"T_0a634_row1_col4\" class=\"data row1 col4\" >10</td>\n",
       "            </tr>\n",
       "            <tr>\n",
       "                        <th id=\"T_0a634_level0_row2\" class=\"row_heading level0 row2\" >2</th>\n",
       "                        <td id=\"T_0a634_row2_col0\" class=\"data row2 col0\" >p3</td>\n",
       "                        <td id=\"T_0a634_row2_col1\" class=\"data row2 col1\" >30</td>\n",
       "                        <td id=\"T_0a634_row2_col2\" class=\"data row2 col2\" >60</td>\n",
       "                        <td id=\"T_0a634_row2_col3\" class=\"data row2 col3\" >4</td>\n",
       "                        <td id=\"T_0a634_row2_col4\" class=\"data row2 col4\" >6</td>\n",
       "            </tr>\n",
       "    </tbody></table>"
      ],
      "text/plain": [
       "<pandas.io.formats.style.Styler at 0x7f0484ce8910>"
      ]
     },
     "execution_count": 1,
     "metadata": {},
     "output_type": "execute_result"
    }
   ],
   "source": [
    "import pandas as pd\n",
    "import paper as pa\n",
    "import standard_data as sdata\n",
    "TRESHOLD = 92\n",
    "df = sdata.input_set\n",
    "#df = sdata.input_set = pd.read_csv(\"data/t25_completolda_documenti.csv\")\n",
    "#df = df.drop(columns=['volume','issue','autori','data','year'])\n",
    "df.head(3).style.set_caption(\"<b style='background-color: yellow;'>Table 0: Input Data</b>\")"
   ]
  },
  {
   "cell_type": "markdown",
   "metadata": {},
   "source": [
    "## Example Extraction for p2"
   ]
  },
  {
   "cell_type": "code",
   "execution_count": 2,
   "metadata": {},
   "outputs": [
    {
     "data": {
      "text/html": [
       "<div>\n",
       "<style scoped>\n",
       "    .dataframe tbody tr th:only-of-type {\n",
       "        vertical-align: middle;\n",
       "    }\n",
       "\n",
       "    .dataframe tbody tr th {\n",
       "        vertical-align: top;\n",
       "    }\n",
       "\n",
       "    .dataframe thead th {\n",
       "        text-align: right;\n",
       "    }\n",
       "</style>\n",
       "<table border=\"1\" class=\"dataframe\">\n",
       "  <thead>\n",
       "    <tr style=\"text-align: right;\">\n",
       "      <th></th>\n",
       "      <th>topic</th>\n",
       "      <th>weight</th>\n",
       "      <th>cumsum</th>\n",
       "    </tr>\n",
       "  </thead>\n",
       "  <tbody>\n",
       "    <tr>\n",
       "      <th>0</th>\n",
       "      <td>t1</td>\n",
       "      <td>80</td>\n",
       "      <td>80</td>\n",
       "    </tr>\n",
       "    <tr>\n",
       "      <th>1</th>\n",
       "      <td>t4</td>\n",
       "      <td>10</td>\n",
       "      <td>90</td>\n",
       "    </tr>\n",
       "    <tr>\n",
       "      <th>2</th>\n",
       "      <td>t3</td>\n",
       "      <td>8</td>\n",
       "      <td>98</td>\n",
       "    </tr>\n",
       "  </tbody>\n",
       "</table>\n",
       "</div>"
      ],
      "text/plain": [
       "  topic weight cumsum\n",
       "0    t1     80     80\n",
       "1    t4     10     90\n",
       "2    t3      8     98"
      ]
     },
     "execution_count": 2,
     "metadata": {},
     "output_type": "execute_result"
    }
   ],
   "source": [
    "pa.topics_that_are_sufficient_to_reach_the_threshold(df,rownum = 1, treshold=TRESHOLD)['as_df']\n"
   ]
  },
  {
   "cell_type": "markdown",
   "metadata": {},
   "source": [
    "`topics_that_are_sufficient_to_reach_the_threshold` fonksiyonu ne yapıyor: Önce girdi tablosundaki değerleri (p2 \t80 \t2 \t8 \t10) alıyor sonra sayılara göre sıralıyor t konuları da ona göre sıralanıyor.  Sonra kümülatif değerleri alıyor"
   ]
  },
  {
   "cell_type": "markdown",
   "metadata": {},
   "source": [
    "## Table 1: Analysis for each paper"
   ]
  },
  {
   "cell_type": "code",
   "execution_count": 3,
   "metadata": {},
   "outputs": [],
   "source": [
    "# columns\n",
    "notta = 'number of topics that are sufficient to reach the threshold'\n",
    "lotta = 'label of topics that are sufficient to reach the threshold'\n",
    "\n",
    "for index,row in df.iterrows():\n",
    "    reat = pa.topics_that_are_sufficient_to_reach_the_threshold(df,rownum = index,treshold=TRESHOLD)\n",
    "    df.at[index,notta] = reat['as_count']\n",
    "    df.at[index,lotta] = reat['as_topic_labels']\n",
    "    #max min (TODO:Look table 4, maxweight is 40 and min weight 25)\n",
    "    df.at[index,\"max weight\"] = max(reat['as_df'].weight)\n",
    "    df.at[index,\"min weight\"] = min(reat['as_df'].weight)"
   ]
  },
  {
   "cell_type": "code",
   "execution_count": 4,
   "metadata": {},
   "outputs": [
    {
     "data": {
      "text/html": [
       "<div>\n",
       "<style scoped>\n",
       "    .dataframe tbody tr th:only-of-type {\n",
       "        vertical-align: middle;\n",
       "    }\n",
       "\n",
       "    .dataframe tbody tr th {\n",
       "        vertical-align: top;\n",
       "    }\n",
       "\n",
       "    .dataframe thead th {\n",
       "        text-align: right;\n",
       "    }\n",
       "</style>\n",
       "<table border=\"1\" class=\"dataframe\">\n",
       "  <thead>\n",
       "    <tr style=\"text-align: right;\">\n",
       "      <th></th>\n",
       "      <th>paper_key</th>\n",
       "      <th>t1</th>\n",
       "      <th>t2</th>\n",
       "      <th>t3</th>\n",
       "      <th>t4</th>\n",
       "      <th>number of topics that are sufficient to reach the threshold</th>\n",
       "      <th>label of topics that are sufficient to reach the threshold</th>\n",
       "      <th>max weight</th>\n",
       "      <th>min weight</th>\n",
       "    </tr>\n",
       "  </thead>\n",
       "  <tbody>\n",
       "    <tr>\n",
       "      <th>0</th>\n",
       "      <td>p1</td>\n",
       "      <td>10</td>\n",
       "      <td>20</td>\n",
       "      <td>61</td>\n",
       "      <td>9</td>\n",
       "      <td>4</td>\n",
       "      <td>t3,t2,t1,t4</td>\n",
       "      <td>61</td>\n",
       "      <td>9</td>\n",
       "    </tr>\n",
       "    <tr>\n",
       "      <th>1</th>\n",
       "      <td>p2</td>\n",
       "      <td>80</td>\n",
       "      <td>2</td>\n",
       "      <td>8</td>\n",
       "      <td>10</td>\n",
       "      <td>3</td>\n",
       "      <td>t1,t4,t3</td>\n",
       "      <td>80</td>\n",
       "      <td>8</td>\n",
       "    </tr>\n",
       "    <tr>\n",
       "      <th>2</th>\n",
       "      <td>p3</td>\n",
       "      <td>30</td>\n",
       "      <td>60</td>\n",
       "      <td>4</td>\n",
       "      <td>6</td>\n",
       "      <td>3</td>\n",
       "      <td>t2,t1,t4</td>\n",
       "      <td>60</td>\n",
       "      <td>6</td>\n",
       "    </tr>\n",
       "  </tbody>\n",
       "</table>\n",
       "</div>"
      ],
      "text/plain": [
       "  paper_key  t1  t2  t3  t4  \\\n",
       "0        p1  10  20  61   9   \n",
       "1        p2  80   2   8  10   \n",
       "2        p3  30  60   4   6   \n",
       "\n",
       "   number of topics that are sufficient to reach the threshold  \\\n",
       "0                                                  4             \n",
       "1                                                  3             \n",
       "2                                                  3             \n",
       "\n",
       "  label of topics that are sufficient to reach the threshold  max weight  \\\n",
       "0                                        t3,t2,t1,t4                  61   \n",
       "1                                           t1,t4,t3                  80   \n",
       "2                                           t2,t1,t4                  60   \n",
       "\n",
       "   min weight  \n",
       "0           9  \n",
       "1           8  \n",
       "2           6  "
      ]
     },
     "execution_count": 4,
     "metadata": {},
     "output_type": "execute_result"
    }
   ],
   "source": [
    "# styling\n",
    "df['max weight'] = df['max weight'].astype(int)\n",
    "df['min weight'] = df['min weight'].astype(int)\n",
    "df[notta] = df[notta].astype(int)\n",
    "table_1= df\n",
    "table_1.head(3)"
   ]
  },
  {
   "cell_type": "markdown",
   "metadata": {},
   "source": [
    "Ne yaptık: `topics_that_are_sufficient_to_reach_the_threshold` fonksiyonu alınıp buraddaki t listesi `label of topics that are sufficient to reach the threshold` kolonuna yazdırılıyor. Sonra bu kolonda geçen konu sayısı `number of topics that are sufficient to reach the threshold` kolonuna yazdırılıyor. Burada mesela 4 demek o makalede 4 konu geçmiş demek, 3 demek 3 konu geçmiş demek. Max ve min weight kolonları ise normal weight'lerden alınıyor"
   ]
  },
  {
   "cell_type": "markdown",
   "metadata": {},
   "source": [
    "## Table 2: Summary of the number of topics (Old Reat Table)"
   ]
  },
  {
   "cell_type": "code",
   "execution_count": 5,
   "metadata": {},
   "outputs": [
    {
     "data": {
      "text/html": [
       "<div>\n",
       "<style scoped>\n",
       "    .dataframe tbody tr th:only-of-type {\n",
       "        vertical-align: middle;\n",
       "    }\n",
       "\n",
       "    .dataframe tbody tr th {\n",
       "        vertical-align: top;\n",
       "    }\n",
       "\n",
       "    .dataframe thead th {\n",
       "        text-align: right;\n",
       "    }\n",
       "</style>\n",
       "<table border=\"1\" class=\"dataframe\">\n",
       "  <thead>\n",
       "    <tr style=\"text-align: right;\">\n",
       "      <th></th>\n",
       "      <th>number of topic</th>\n",
       "      <th>number of paper</th>\n",
       "      <th>percentage</th>\n",
       "      <th>cumulative percentage</th>\n",
       "    </tr>\n",
       "  </thead>\n",
       "  <tbody>\n",
       "    <tr>\n",
       "      <th>0</th>\n",
       "      <td>3</td>\n",
       "      <td>3</td>\n",
       "      <td>75.0</td>\n",
       "      <td>75.0</td>\n",
       "    </tr>\n",
       "    <tr>\n",
       "      <th>1</th>\n",
       "      <td>4</td>\n",
       "      <td>1</td>\n",
       "      <td>25.0</td>\n",
       "      <td>100.0</td>\n",
       "    </tr>\n",
       "  </tbody>\n",
       "</table>\n",
       "</div>"
      ],
      "text/plain": [
       "   number of topic  number of paper  percentage  cumulative percentage\n",
       "0                3                3        75.0                   75.0\n",
       "1                4                1        25.0                  100.0"
      ]
     },
     "execution_count": 5,
     "metadata": {},
     "output_type": "execute_result"
    }
   ],
   "source": [
    "t_reat_freq = table_1[notta].value_counts().to_frame().fillna(0).reset_index()\n",
    "t_reat_perc = round(table_1[notta].value_counts(normalize = True)*100,2).to_frame().reset_index()\n",
    "t_reat_dist = t_reat_freq.merge(t_reat_perc,on=\"index\")\n",
    "t_reat_dist.columns = ['topic','reat_freq','reat_perc']\n",
    "t_reat_dist['cms'] = t_reat_dist.reat_perc.cumsum()\n",
    "t_reat_dist.columns = ['number of topic','number of paper','percentage','cumulative percentage']\n",
    "t_reat_dist"
   ]
  },
  {
   "cell_type": "markdown",
   "metadata": {},
   "source": [
    "Ne yaptık: Burada ise Table 1'deki `number of topics that are sufficient to reach the threshold` kolonunun frekans değerleri alındı. Yani içinde 3 konu geçen 3 makale, 4 konu geçen 1 makale var. Kalan kolonlar da buna göre hesaplandı"
   ]
  },
  {
   "cell_type": "markdown",
   "metadata": {},
   "source": [
    "## Table 3: Summary of the topic distribution (Old  Suffi Table)"
   ]
  },
  {
   "cell_type": "code",
   "execution_count": 6,
   "metadata": {},
   "outputs": [],
   "source": [
    "def get_order(topicno):\n",
    "    return topicno.split(\"t\")[1]"
   ]
  },
  {
   "cell_type": "code",
   "execution_count": 7,
   "metadata": {},
   "outputs": [
    {
     "data": {
      "text/html": [
       "<div>\n",
       "<style scoped>\n",
       "    .dataframe tbody tr th:only-of-type {\n",
       "        vertical-align: middle;\n",
       "    }\n",
       "\n",
       "    .dataframe tbody tr th {\n",
       "        vertical-align: top;\n",
       "    }\n",
       "\n",
       "    .dataframe thead th {\n",
       "        text-align: right;\n",
       "    }\n",
       "</style>\n",
       "<table border=\"1\" class=\"dataframe\">\n",
       "  <thead>\n",
       "    <tr style=\"text-align: right;\">\n",
       "      <th></th>\n",
       "      <th>topic</th>\n",
       "      <th>number of paper</th>\n",
       "      <th>number of paper in corpus</th>\n",
       "      <th>order</th>\n",
       "    </tr>\n",
       "  </thead>\n",
       "  <tbody>\n",
       "    <tr>\n",
       "      <th>1</th>\n",
       "      <td>t1</td>\n",
       "      <td>4</td>\n",
       "      <td>1.00</td>\n",
       "      <td>1</td>\n",
       "    </tr>\n",
       "    <tr>\n",
       "      <th>3</th>\n",
       "      <td>t2</td>\n",
       "      <td>2</td>\n",
       "      <td>0.50</td>\n",
       "      <td>2</td>\n",
       "    </tr>\n",
       "    <tr>\n",
       "      <th>2</th>\n",
       "      <td>t3</td>\n",
       "      <td>3</td>\n",
       "      <td>0.75</td>\n",
       "      <td>3</td>\n",
       "    </tr>\n",
       "    <tr>\n",
       "      <th>0</th>\n",
       "      <td>t4</td>\n",
       "      <td>4</td>\n",
       "      <td>1.00</td>\n",
       "      <td>4</td>\n",
       "    </tr>\n",
       "  </tbody>\n",
       "</table>\n",
       "</div>"
      ],
      "text/plain": [
       "  topic  number of paper  number of paper in corpus  order\n",
       "1    t1                4                       1.00      1\n",
       "3    t2                2                       0.50      2\n",
       "2    t3                3                       0.75      3\n",
       "0    t4                4                       1.00      4"
      ]
     },
     "execution_count": 7,
     "metadata": {},
     "output_type": "execute_result"
    }
   ],
   "source": [
    "melted_topics = pd.DataFrame(\",\".join(table_1[lotta].to_list()).split(\",\"))\n",
    "tfreq = melted_topics[0].value_counts().to_frame().reset_index()\n",
    "tfreq.columns = ['topic','number of paper']\n",
    "count_of_papers_in_corpus = table_1.count()[0]\n",
    "number_of_papers_in_corpus = tfreq['number of paper']/count_of_papers_in_corpus\n",
    "tfreq['number of paper in corpus'] = number_of_papers_in_corpus\n",
    "tfreq['order'] = tfreq['topic'].apply(get_order).astype(int)\n",
    "tfreq.sort_values(by = \"order\")"
   ]
  },
  {
   "cell_type": "markdown",
   "metadata": {},
   "source": [
    "Ne yaptı: Burada Tablo 1'de geçen makale sayısı `count_of_papers_in_corpus` ve her bir konunun table1'de kaç kez geçtiğini kullanarak bu tabloyu oluşturduk."
   ]
  }
 ],
 "metadata": {
  "kernelspec": {
   "display_name": "Python 3",
   "language": "python",
   "name": "python3"
  },
  "language_info": {
   "codemirror_mode": {
    "name": "ipython",
    "version": 3
   },
   "file_extension": ".py",
   "mimetype": "text/x-python",
   "name": "python",
   "nbconvert_exporter": "python",
   "pygments_lexer": "ipython3",
   "version": "3.8.5"
  }
 },
 "nbformat": 4,
 "nbformat_minor": 4
}
